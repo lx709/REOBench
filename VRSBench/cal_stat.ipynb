{
 "cells": [
  {
   "cell_type": "code",
   "execution_count": null,
   "metadata": {},
   "outputs": [
    {
     "name": "stdout",
     "output_type": "stream",
     "text": [
      "clean 37409\n",
      "brightness_contrast 1 37409\n",
      "brightness_contrast 2 37409\n",
      "brightness_contrast 3 37409\n",
      "brightness_contrast 4 37409\n",
      "brightness_contrast 5 37409\n",
      "clouds 1 37409\n",
      "clouds 2 37409\n",
      "clouds 3 37406\n",
      "clouds 4 37409\n",
      "clouds 5 37409\n",
      "compression_artifacts 1 37409\n",
      "compression_artifacts 2 37409\n",
      "compression_artifacts 3 37409\n",
      "compression_artifacts 4 37409\n",
      "compression_artifacts 5 37409\n",
      "gaps 1 37409\n",
      "gaps 2 37409\n",
      "gaps 3 37409\n",
      "gaps 4 37409\n",
      "gaps 5 37409\n",
      "gaussian_blur 1 37409\n",
      "gaussian_blur 2 37409\n",
      "gaussian_blur 3 37409\n",
      "gaussian_blur 4 37409\n",
      "gaussian_blur 5 37409\n",
      "gaussian_noise 1 37409\n",
      "gaussian_noise 2 37409\n",
      "gaussian_noise 3 37409\n",
      "gaussian_noise 4 37409\n",
      "gaussian_noise 5 37409\n",
      "haze 1 37409\n",
      "haze 2 37409\n",
      "haze 3 37409\n",
      "haze 4 37409\n",
      "haze 5 37409\n",
      "motion_blur 1 37409\n",
      "motion_blur 2 37409\n",
      "motion_blur 3 37409\n",
      "motion_blur 4 37409\n",
      "motion_blur 5 37389\n",
      "salt_and_pepper_noise 1 37409\n",
      "salt_and_pepper_noise 2 37409\n",
      "salt_and_pepper_noise 3 37409\n",
      "salt_and_pepper_noise 4 37409\n",
      "salt_and_pepper_noise 5 37409\n",
      "clean: 0.6021010986660964\n",
      "brightness_contrast (Level 1): Accuracy = 60.29%\n",
      "brightness_contrast (Level 2): Accuracy = 60.14%\n",
      "brightness_contrast (Level 3): Accuracy = 59.94%\n",
      "brightness_contrast (Level 4): Accuracy = 59.05%\n",
      "brightness_contrast (Level 5): Accuracy = 56.91%\n",
      "clouds (Level 1): Accuracy = 61.39%\n",
      "clouds (Level 2): Accuracy = 59.82%\n",
      "clouds (Level 3): Accuracy = 59.47%\n",
      "clouds (Level 4): Accuracy = 59.18%\n",
      "clouds (Level 5): Accuracy = 58.82%\n",
      "compression_artifacts (Level 1): Accuracy = 59.17%\n",
      "compression_artifacts (Level 2): Accuracy = 59.00%\n",
      "compression_artifacts (Level 3): Accuracy = 58.49%\n",
      "compression_artifacts (Level 4): Accuracy = 57.49%\n",
      "compression_artifacts (Level 5): Accuracy = 55.52%\n",
      "gaps (Level 1): Accuracy = 60.03%\n",
      "gaps (Level 2): Accuracy = 59.78%\n",
      "gaps (Level 3): Accuracy = 59.67%\n",
      "gaps (Level 4): Accuracy = 59.42%\n",
      "gaps (Level 5): Accuracy = 59.31%\n",
      "gaussian_blur (Level 1): Accuracy = 60.01%\n",
      "gaussian_blur (Level 2): Accuracy = 59.87%\n",
      "gaussian_blur (Level 3): Accuracy = 59.31%\n",
      "gaussian_blur (Level 4): Accuracy = 58.69%\n",
      "gaussian_blur (Level 5): Accuracy = 58.15%\n",
      "gaussian_noise (Level 1): Accuracy = 59.16%\n",
      "gaussian_noise (Level 2): Accuracy = 58.69%\n",
      "gaussian_noise (Level 3): Accuracy = 58.20%\n",
      "gaussian_noise (Level 4): Accuracy = 57.84%\n",
      "gaussian_noise (Level 5): Accuracy = 57.42%\n",
      "haze (Level 1): Accuracy = 60.06%\n",
      "haze (Level 2): Accuracy = 59.81%\n",
      "haze (Level 3): Accuracy = 59.83%\n",
      "haze (Level 4): Accuracy = 59.44%\n",
      "haze (Level 5): Accuracy = 58.99%\n",
      "motion_blur (Level 1): Accuracy = 60.14%\n",
      "motion_blur (Level 2): Accuracy = 59.80%\n",
      "motion_blur (Level 3): Accuracy = 59.21%\n",
      "motion_blur (Level 4): Accuracy = 58.71%\n",
      "motion_blur (Level 5): Accuracy = 57.99%\n",
      "salt_and_pepper_noise (Level 1): Accuracy = 59.06%\n",
      "salt_and_pepper_noise (Level 2): Accuracy = 58.29%\n",
      "salt_and_pepper_noise (Level 3): Accuracy = 57.38%\n",
      "salt_and_pepper_noise (Level 4): Accuracy = 56.51%\n",
      "salt_and_pepper_noise (Level 5): Accuracy = 55.12%\n",
      "\n",
      "Average Accuracy per Noise Type:\n",
      "brightness_contrast: 59.26%\n",
      "clouds: 59.73%\n",
      "compression_artifacts: 57.93%\n",
      "gaps: 59.64%\n",
      "gaussian_blur: 59.21%\n",
      "gaussian_noise: 58.27%\n",
      "haze: 59.63%\n",
      "motion_blur: 59.17%\n",
      "salt_and_pepper_noise: 57.27%\n"
     ]
    }
   ],
   "source": [
    "import os\n",
    "import json\n",
    "import numpy as np\n",
    "\n",
    "# List of noise types\n",
    "noise_types = [\n",
    "    \"brightness_contrast\",\n",
    "    \"clouds\",\n",
    "    \"compression_artifacts\",\n",
    "    \"gaps\",\n",
    "    \"gaussian_blur\",\n",
    "    \"gaussian_noise\",\n",
    "    \"haze\",\n",
    "    \"motion_blur\",\n",
    "    \"salt_and_pepper_noise\"\n",
    "]\n",
    "\n",
    "# Dictionary to store results\n",
    "accuracy_results = {}\n",
    "\n",
    "# Base directory containing the JSON files\n",
    "task = 'vqa'\n",
    "base_dir = './outputs_gpt_vhm/'  # Modify if your files are stored elsewhere\n",
    "\n",
    "filename = os.path.join(base_dir, f\"{task}_clean_gpt.json\")\n",
    "if os.path.exists(filename):\n",
    "        \n",
    "    with open(filename, 'r') as f:\n",
    "        results = [json.loads(line.strip()) for line in f if line.strip()]\n",
    "\n",
    "    if task == 'vqa':\n",
    "        valid_results = [r for r in results if r.get(\"correct\") in ['0', '1']]\n",
    "        correct = sum(int(r[\"correct\"]) for r in valid_results)\n",
    "    elif task == 'cap':\n",
    "        valid_results = [r for r in results if float(r.get(\"clair\"))]\n",
    "        correct = sum(float(r[\"clair\"]) for r in valid_results)\n",
    "    total = len(valid_results)\n",
    "    acc = correct / total if total > 0 else 0.0\n",
    "    print('clean', total)\n",
    "    accuracy_results['clean'] = acc\n",
    "else:\n",
    "    print(f\"File not found: {filename}\")\n",
    "\n",
    "# Loop through each noise type and level\n",
    "for noise in noise_types:\n",
    "    accuracy_results[noise] = {}\n",
    "\n",
    "    for level in range(1, 6):\n",
    "        filename = os.path.join(base_dir, f\"{task}_{noise}_{level}_gpt.json\")\n",
    "        if not os.path.exists(filename):\n",
    "            print(f\"File not found: {filename}\")\n",
    "            continue\n",
    "        \n",
    "        with open(filename, 'r') as f:\n",
    "            results = [json.loads(line.strip()) for line in f if line.strip()]\n",
    "\n",
    "        if task == 'vqa':\n",
    "            valid_results = [r for r in results if r.get(\"correct\") in ['0', '1']]\n",
    "            correct = sum(int(r[\"correct\"]) for r in valid_results)\n",
    "        elif task == 'cap':\n",
    "            valid_results = [r for r in results if float(r.get(\"clair\"))]\n",
    "            correct = sum(float(r[\"clair\"]) for r in valid_results)\n",
    "        total = len(valid_results)\n",
    "        acc = correct / total if total > 0 else 0.0\n",
    "        print(noise, level, total)\n",
    "        accuracy_results[noise][level] = acc\n",
    "\n",
    "clean_acc = accuracy_results.pop('clean')\n",
    "print('clean:', clean_acc)\n",
    "\n",
    "# Optional: print the results\n",
    "for noise, levels in accuracy_results.items():\n",
    "    for level, acc in levels.items():\n",
    "        print(f\"{noise} (Level {level}): Accuracy = {acc:.2%}\")\n",
    "\n",
    "# Dictionary to store average accuracy per noise type\n",
    "average_accuracy = {}\n",
    "\n",
    "# After collecting accuracy_results\n",
    "for noise, levels in accuracy_results.items():\n",
    "    if levels:\n",
    "        avg_acc = sum(levels.values()) / len(levels)\n",
    "    else:\n",
    "        avg_acc = 0.0\n",
    "    average_accuracy[noise] = avg_acc\n",
    "\n",
    "# Print average accuracy per noise type\n",
    "print(\"\\nAverage Accuracy per Noise Type:\")\n",
    "for noise, avg in average_accuracy.items():\n",
    "    print(f\"{noise}: {avg:.2%}\")"
   ]
  },
  {
   "cell_type": "code",
   "execution_count": 8,
   "metadata": {},
   "outputs": [
    {
     "name": "stdout",
     "output_type": "stream",
     "text": [
      "0.6021010986660964\n"
     ]
    },
    {
     "data": {
      "text/plain": [
       "(58.901950633120045, -1.3081592334895973)"
      ]
     },
     "execution_count": 8,
     "metadata": {},
     "output_type": "execute_result"
    }
   ],
   "source": [
    "print(clean_acc)\n",
    "\n",
    "import numpy as np\n",
    "np.mean([v*100 for k, v in average_accuracy.items()]), (np.mean([v*100 for k, v in average_accuracy.items()]) - clean_acc*100)\n"
   ]
  },
  {
   "cell_type": "code",
   "execution_count": 9,
   "metadata": {},
   "outputs": [
    {
     "data": {
      "text/plain": [
       "'59.26 & 59.73 & 57.93 & 59.64 & 59.21 & 58.27 & 59.63 & 59.17 & 57.27'"
      ]
     },
     "execution_count": 9,
     "metadata": {},
     "output_type": "execute_result"
    }
   ],
   "source": [
    "\" & \".join(\"{:.2f}\".format(v*100) for k,v in average_accuracy.items())"
   ]
  },
  {
   "cell_type": "code",
   "execution_count": null,
   "metadata": {},
   "outputs": [],
   "source": [
    "60.21 & 59.26 & 59.73 & 57.93 & 59.64 & 59.21 & 58.27 & 59.63 & 59.17 & 57.27 & 58.90 & 1.38"
   ]
  },
  {
   "cell_type": "code",
   "execution_count": null,
   "metadata": {},
   "outputs": [],
   "source": [
    "33.27"
   ]
  },
  {
   "cell_type": "code",
   "execution_count": null,
   "metadata": {},
   "outputs": [],
   "source": []
  },
  {
   "cell_type": "code",
   "execution_count": null,
   "metadata": {},
   "outputs": [],
   "source": []
  }
 ],
 "metadata": {
  "kernelspec": {
   "display_name": "base",
   "language": "python",
   "name": "python3"
  },
  "language_info": {
   "codemirror_mode": {
    "name": "ipython",
    "version": 3
   },
   "file_extension": ".py",
   "mimetype": "text/x-python",
   "name": "python",
   "nbconvert_exporter": "python",
   "pygments_lexer": "ipython3",
   "version": "3.8.17"
  }
 },
 "nbformat": 4,
 "nbformat_minor": 2
}
